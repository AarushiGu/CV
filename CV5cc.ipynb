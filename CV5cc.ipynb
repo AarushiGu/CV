{
  "nbformat": 4,
  "nbformat_minor": 0,
  "metadata": {
    "colab": {
      "provenance": []
    },
    "kernelspec": {
      "name": "python3",
      "display_name": "Python 3"
    },
    "language_info": {
      "name": "python"
    }
  },
  "cells": [
    {
      "cell_type": "code",
      "source": [
        "from google.colab.patches import cv2_imshow\n",
        "import numpy as np\n",
        "import cv2\n",
        "import matplotlib.pyplot as plt"
      ],
      "metadata": {
        "id": "u8ZRe7HC4eRk"
      },
      "execution_count": null,
      "outputs": []
    },
    {
      "cell_type": "code",
      "source": [
        "image = cv2.imread('/content/4.png')\n",
        "gray_image=cv2.cvtColor(image,cv2.COLOR_BGR2GRAY)\n",
        "gray_image = cv2.resize(gray_image,(20,20))\n",
        "_,binary_image=cv2.threshold(gray_image,127,255,cv2.THRESH_BINARY_INV)\n",
        "plt.imshow(binary_image)"
      ],
      "metadata": {
        "colab": {
          "base_uri": "https://localhost:8080/",
          "height": 447
        },
        "id": "5m51Cngh4upu",
        "outputId": "28d0bd5e-3f23-4d30-81c3-0388cbaf3ea5"
      },
      "execution_count": null,
      "outputs": [
        {
          "output_type": "execute_result",
          "data": {
            "text/plain": [
              "<matplotlib.image.AxesImage at 0x7a3c7fda0b20>"
            ]
          },
          "metadata": {},
          "execution_count": 160
        },
        {
          "output_type": "display_data",
          "data": {
            "text/plain": [
              "<Figure size 640x480 with 1 Axes>"
            ],
            "image/png": "[encoded data removed]"
          },
          "metadata": {}
        }
      ]
    },
    {
      "cell_type": "code",
      "source": [
        "for i, row in enumerate(binary_image):\n",
        "    for j, value in enumerate(row):\n",
        "        if value == 255:\n",
        "            start_point = (i, j)\n",
        "            print(start_point, value)\n",
        "            break\n",
        "    else:\n",
        "        continue\n",
        "    break"
      ],
      "metadata": {
        "colab": {
          "base_uri": "https://localhost:8080/"
        },
        "id": "cYAlYEAo9iog",
        "outputId": "299ac6f9-5c88-42b2-9db5-11a618afb943"
      },
      "execution_count": null,
      "outputs": [
        {
          "output_type": "stream",
          "name": "stdout",
          "text": [
            "(4, 6) 255\n"
          ]
        }
      ]
    },
    {
      "cell_type": "code",
      "source": [
        "directions = [ 0,  1,  2,\n",
        "               7,      3,\n",
        "               6,  5,  4]\n",
        "dir2idx = dict(zip(directions, range(len(directions))))\n",
        "\n",
        "change_j =   [-1,  0,  1, # x or columns\n",
        "              -1,      1,\n",
        "              -1,  0,  1]\n",
        "\n",
        "change_i =   [-1, -1, -1, # y or rows\n",
        "               0,      0,\n",
        "               1,  1,  1]\n",
        "\n",
        "border = []\n",
        "chain = []\n",
        "curr_point = start_point\n",
        "for direction in directions:\n",
        "    idx = dir2idx[direction]\n",
        "    new_point = (start_point[0]+change_i[idx], start_point[1]+change_j[idx])\n",
        "    if binary_image[new_point] != 0: # if is ROI\n",
        "        border.append(new_point)\n",
        "        chain.append(direction)\n",
        "        curr_point = new_point\n",
        "        break"
      ],
      "metadata": {
        "id": "uO4r1XoRBlSE"
      },
      "execution_count": null,
      "outputs": []
    },
    {
      "cell_type": "code",
      "source": [
        "count = 0\n",
        "while curr_point != start_point:\n",
        "    #figure direction to start search\n",
        "    b_direction = (direction + 5) % 8\n",
        "    dirs_1 = range(b_direction, 8)\n",
        "    dirs_2 = range(0, b_direction)\n",
        "    dirs = []\n",
        "    dirs.extend(dirs_1)\n",
        "    dirs.extend(dirs_2)\n",
        "    for direction in dirs:\n",
        "        idx = dir2idx[direction]\n",
        "        new_point = (curr_point[0]+change_i[idx], curr_point[1]+change_j[idx])\n",
        "        if binary_image[new_point] != 0: # if is ROI\n",
        "            border.append(new_point)\n",
        "            chain.append(direction)\n",
        "            curr_point = new_point\n",
        "            break\n",
        "    if count == 1000: break\n",
        "    count += 1"
      ],
      "metadata": {
        "id": "OJZMmnkRBqsb"
      },
      "execution_count": null,
      "outputs": []
    },
    {
      "cell_type": "code",
      "source": [
        "print(count)\n",
        "print(chain)"
      ],
      "metadata": {
        "colab": {
          "base_uri": "https://localhost:8080/"
        },
        "id": "AGkmjC_UB0BD",
        "outputId": "ea08ce31-1656-475e-be55-ce3065ac2236"
      },
      "execution_count": null,
      "outputs": [
        {
          "output_type": "stream",
          "name": "stdout",
          "text": [
            "50\n",
            "[3, 5, 6, 6, 4, 4, 3, 3, 3, 3, 3, 3, 2, 1, 2, 1, 3, 3, 5, 6, 5, 6, 6, 5, 5, 5, 6, 6, 5, 6, 6, 0, 1, 2, 2, 1, 1, 0, 7, 0, 7, 7, 7, 0, 7, 1, 1, 2, 1, 3, 2]\n"
          ]
        }
      ]
    },
    {
      "cell_type": "code",
      "source": [
        "plt.imshow(binary_image, cmap='Greys')\n",
        "plt.plot([i[1] for i in border], [i[0] for i in border])"
      ],
      "metadata": {
        "colab": {
          "base_uri": "https://localhost:8080/",
          "height": 447
        },
        "id": "0F_mJj64Bz-M",
        "outputId": "f14b2a53-ef9d-4742-dec9-f45dc6585a15"
      },
      "execution_count": null,
      "outputs": [
        {
          "output_type": "execute_result",
          "data": {
            "text/plain": [
              "[<matplotlib.lines.Line2D at 0x7a3c7fb161d0>]"
            ]
          },
          "metadata": {},
          "execution_count": 165
        },
        {
          "output_type": "display_data",
          "data": {
            "text/plain": [
              "<Figure size 640x480 with 1 Axes>"
            ],
            "image/png": "[encoded data removed]"
          },
          "metadata": {}
        }
      ]
    },
    {
      "cell_type": "code",
      "source": [
        "gray_image.shape"
      ],
      "metadata": {
        "colab": {
          "base_uri": "https://localhost:8080/"
        },
        "id": "nM5rMC4INHzD",
        "outputId": "0e91c59b-3e16-4e0f-a668-6aaa4fb42233"
      },
      "execution_count": null,
      "outputs": [
        {
          "output_type": "execute_result",
          "data": {
            "text/plain": [
              "(20, 20)"
            ]
          },
          "metadata": {},
          "execution_count": 166
        }
      ]
    },
    {
      "cell_type": "code",
      "source": [
        "image1= cv2.imread('/content/44.jfif')\n",
        "gray_image1=cv2.cvtColor(image1,cv2.COLOR_BGR2GRAY)\n",
        "gray_image1= cv2.resize(gray_image1,(20,20))\n",
        "_,binary_imagee=cv2.threshold(gray_image1,127,255,cv2.THRESH_BINARY_INV)\n",
        "plt.imshow(binary_imagee)"
      ],
      "metadata": {
        "colab": {
          "base_uri": "https://localhost:8080/",
          "height": 447
        },
        "id": "haI4bp5SJV7n",
        "outputId": "33bd309b-f665-49af-c7c6-9149a4334bca"
      },
      "execution_count": null,
      "outputs": [
        {
          "output_type": "execute_result",
          "data": {
            "text/plain": [
              "<matplotlib.image.AxesImage at 0x7a3c7f97cf40>"
            ]
          },
          "metadata": {},
          "execution_count": 167
        },
        {
          "output_type": "display_data",
          "data": {
            "text/plain": [
              "<Figure size 640x480 with 1 Axes>"
            ],
            "image/png": "[encoded data removed]"
          },
          "metadata": {}
        }
      ]
    },
    {
      "cell_type": "code",
      "source": [
        "for i, row in enumerate(binary_imagee):\n",
        "    for j, value in enumerate(row):\n",
        "        if value == 255:\n",
        "            start_pointt = (i, j)\n",
        "            print(start_pointt, value)\n",
        "            break\n",
        "    else:\n",
        "        continue\n",
        "    break"
      ],
      "metadata": {
        "colab": {
          "base_uri": "https://localhost:8080/"
        },
        "id": "7ZFxaFkwJcjg",
        "outputId": "ee211f4e-1e15-47e3-8358-9b2684b7ef2a"
      },
      "execution_count": null,
      "outputs": [
        {
          "output_type": "stream",
          "name": "stdout",
          "text": [
            "(4, 8) 255\n"
          ]
        }
      ]
    },
    {
      "cell_type": "code",
      "source": [
        "directions = [ 0,  1,  2,\n",
        "               7,      3,\n",
        "               6,  5,  4]\n",
        "dir2idx = dict(zip(directions, range(len(directions))))\n",
        "\n",
        "change_j =   [-1,  0,  1, # x or columns\n",
        "              -1,      1,\n",
        "              -1,  0,  1]\n",
        "\n",
        "change_i =   [-1, -1, -1, # y or rows\n",
        "               0,      0,\n",
        "               1,  1,  1]\n",
        "\n",
        "border = []\n",
        "chainn = []\n",
        "curr_pointt = start_pointt\n",
        "for direction in directions:\n",
        "    idx = dir2idx[direction]\n",
        "    new_pointt = (start_pointt[0]+change_i[idx], start_pointt[1]+change_j[idx])\n",
        "    if binary_imagee[new_pointt] != 0: # if is ROI\n",
        "        border.append(new_pointt)\n",
        "        chainn.append(direction)\n",
        "        curr_pointt = new_pointt\n",
        "        break"
      ],
      "metadata": {
        "id": "YeOtpXaIJevQ"
      },
      "execution_count": null,
      "outputs": []
    },
    {
      "cell_type": "code",
      "source": [
        "count = 0\n",
        "while curr_pointt != start_pointt:\n",
        "    #figure direction to start search\n",
        "    b_direction = (direction + 5) % 8\n",
        "    dirs_1 = range(b_direction, 8)\n",
        "    dirs_2 = range(0, b_direction)\n",
        "    dirs = []\n",
        "    dirs.extend(dirs_1)\n",
        "    dirs.extend(dirs_2)\n",
        "    for direction in dirs:\n",
        "        idx = dir2idx[direction]\n",
        "        new_pointt = (curr_pointt[0]+change_i[idx], curr_pointt[1]+change_j[idx])\n",
        "        if binary_imagee[new_pointt] != 0: # if is ROI\n",
        "            border.append(new_pointt)\n",
        "            chainn.append(direction)\n",
        "            curr_pointt = new_pointt\n",
        "            break\n",
        "    if count == 1000: break\n",
        "    count += 1"
      ],
      "metadata": {
        "id": "6Xm4Np94JgmA"
      },
      "execution_count": null,
      "outputs": []
    },
    {
      "cell_type": "code",
      "source": [
        "print(count)\n",
        "print(chainn)"
      ],
      "metadata": {
        "colab": {
          "base_uri": "https://localhost:8080/"
        },
        "id": "c84OtUaAJizQ",
        "outputId": "98560293-6d59-42f2-a7ea-618d1dabcaf7"
      },
      "execution_count": null,
      "outputs": [
        {
          "output_type": "stream",
          "name": "stdout",
          "text": [
            "48\n",
            "[6, 5, 6, 5, 6, 5, 4, 4, 3, 3, 3, 3, 2, 1, 2, 1, 2, 1, 1, 1, 5, 5, 5, 5, 6, 5, 5, 5, 5, 5, 5, 6, 1, 1, 1, 0, 7, 7, 7, 7, 7, 0, 1, 1, 1, 2, 2, 1, 2]\n"
          ]
        }
      ]
    },
    {
      "cell_type": "code",
      "source": [
        "plt.imshow(binary_image, cmap='Greys')\n",
        "plt.plot([i[1] for i in border], [i[0] for i in border])"
      ],
      "metadata": {
        "colab": {
          "base_uri": "https://localhost:8080/",
          "height": 447
        },
        "id": "rFPNF5vaK9dy",
        "outputId": "198c1164-2949-4397-db5c-2da6b8a9f82e"
      },
      "execution_count": null,
      "outputs": [
        {
          "output_type": "execute_result",
          "data": {
            "text/plain": [
              "[<matplotlib.lines.Line2D at 0x7a3c7f840c10>]"
            ]
          },
          "metadata": {},
          "execution_count": 172
        },
        {
          "output_type": "display_data",
          "data": {
            "text/plain": [
              "<Figure size 640x480 with 1 Axes>"
            ],
            "image/png": "[encoded data removed]"
          },
          "metadata": {}
        }
      ]
    },
    {
      "cell_type": "code",
      "source": [
        "print(chain)\n",
        "print()\n",
        "print(chainn)"
      ],
      "metadata": {
        "colab": {
          "base_uri": "https://localhost:8080/"
        },
        "id": "R3kFb7UPOBxL",
        "outputId": "5284d20d-154d-484b-a61f-0edff07c8c69"
      },
      "execution_count": null,
      "outputs": [
        {
          "output_type": "stream",
          "name": "stdout",
          "text": [
            "[3, 5, 6, 6, 4, 4, 3, 3, 3, 3, 3, 3, 2, 1, 2, 1, 3, 3, 5, 6, 5, 6, 6, 5, 5, 5, 6, 6, 5, 6, 6, 0, 1, 2, 2, 1, 1, 0, 7, 0, 7, 7, 7, 0, 7, 1, 1, 2, 1, 3, 2]\n",
            "\n",
            "[6, 5, 6, 5, 6, 5, 4, 4, 3, 3, 3, 3, 2, 1, 2, 1, 2, 1, 1, 1, 5, 5, 5, 5, 6, 5, 5, 5, 5, 5, 5, 6, 1, 1, 1, 0, 7, 7, 7, 7, 7, 0, 1, 1, 1, 2, 2, 1, 2]\n"
          ]
        }
      ]
    }
  ]
}